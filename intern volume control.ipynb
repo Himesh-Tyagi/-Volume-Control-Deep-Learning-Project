{
 "cells": [
  {
   "cell_type": "code",
   "execution_count": 1,
   "id": "385264ab-6188-4d1f-9575-30281d0d81df",
   "metadata": {},
   "outputs": [],
   "source": [
    "#!pip install mediapipe\n"
   ]
  },
  {
   "cell_type": "code",
   "execution_count": 2,
   "id": "66a2c31b-562a-4be9-8c52-9c7821e53791",
   "metadata": {},
   "outputs": [],
   "source": [
    "#!pip install comtypes\n"
   ]
  },
  {
   "cell_type": "code",
   "execution_count": 3,
   "id": "5b2364ca-b929-4e15-aed5-41b4929a8690",
   "metadata": {},
   "outputs": [],
   "source": [
    "#!pip install pycaw\n",
    "\n",
    "\n"
   ]
  },
  {
   "cell_type": "code",
   "execution_count": 4,
   "id": "9e8cfdbb-f6b8-47cf-a87a-988788f04702",
   "metadata": {},
   "outputs": [],
   "source": [
    "#!pip install --upgrade pycaw\n",
    "\n"
   ]
  },
  {
   "cell_type": "code",
   "execution_count": null,
   "id": "6e3e7f5c-2ec5-4164-a329-09326d82ff78",
   "metadata": {},
   "outputs": [],
   "source": []
  },
  {
   "cell_type": "code",
   "execution_count": 5,
   "id": "193a418b-e146-4efc-b187-a6ccee7db29b",
   "metadata": {},
   "outputs": [
    {
     "name": "stderr",
     "output_type": "stream",
     "text": [
      "C:\\Users\\DELL PC\\AppData\\Local\\Programs\\Python\\Python312\\Lib\\site-packages\\google\\protobuf\\symbol_database.py:55: UserWarning: SymbolDatabase.GetPrototype() is deprecated. Please use message_factory.GetMessageClass() instead. SymbolDatabase.GetPrototype() will be removed soon.\n",
      "  warnings.warn('SymbolDatabase.GetPrototype() is deprecated. Please '\n"
     ]
    }
   ],
   "source": [
    "import cv2\n",
    "import mediapipe as mp\n",
    "import numpy as np\n",
    "from ctypes import cast, POINTER, Structure\n",
    "from comtypes import CLSCTX_ALL, GUID\n",
    "from pycaw.pycaw import AudioUtilities, IAudioEndpointVolume\n",
    "\n",
    "# Patch the IAudioEndpointVolume class to include the _iid_ attribute\n",
    "IAudioEndpointVolume._iid_ = GUID('{5CDF2C82-841E-4546-9722-0CF74078229A}')\n",
    "\n",
    "# Initialize Mediapipe and Pycaw\n",
    "mp_hands = mp.solutions.hands\n",
    "mp_drawing = mp.solutions.drawing_utils\n",
    "\n",
    "# Set up Pycaw for volume control\n",
    "devices = AudioUtilities.GetSpeakers()\n",
    "interface = devices.Activate(\n",
    "    IAudioEndpointVolume._iid_, CLSCTX_ALL, None)\n",
    "volume = cast(interface, POINTER(IAudioEndpointVolume))\n",
    "\n",
    "# Get the volume range\n",
    "vol_range = volume.GetVolumeRange()\n",
    "min_vol = vol_range[0]\n",
    "max_vol = vol_range[1]\n",
    "\n",
    "def calculate_distance(point1, point2):\n",
    "    return np.linalg.norm(np.array(point1) - np.array(point2))\n",
    "\n",
    "def volume_control_from_distance(distance, min_distance, max_distance):\n",
    "    # Normalize the distance\n",
    "    norm_distance = np.clip((distance - min_distance) / (max_distance - min_distance), 0, 1)\n",
    "    # Map the normalized distance to the volume range\n",
    "    return norm_distance * (max_vol - min_vol) + min_vol\n",
    "\n",
    "# Initialize the webcam\n",
    "cap = cv2.VideoCapture(0)\n",
    "\n",
    "# Set up Mediapipe hand detection\n",
    "with mp_hands.Hands(min_detection_confidence=0.7, min_tracking_confidence=0.7) as hands:\n",
    "    while cap.isOpened():\n",
    "        ret, frame = cap.read()\n",
    "        \n",
    "        if not ret:\n",
    "            print(\"Failed to grab frame\")\n",
    "            break\n",
    "\n",
    "        # Flip the frame horizontally for a later selfie-view display\n",
    "        frame = cv2.flip(frame, 1)\n",
    "        \n",
    "        # Convert the BGR image to RGB\n",
    "        rgb_frame = cv2.cvtColor(frame, cv2.COLOR_BGR2RGB)\n",
    "        \n",
    "        # Process the frame and find hands\n",
    "        result = hands.process(rgb_frame)\n",
    "        \n",
    "        if result.multi_hand_landmarks:\n",
    "            for hand_landmarks in result.multi_hand_landmarks:\n",
    "                # Draw the hand landmarks on the frame\n",
    "                mp_drawing.draw_landmarks(frame, hand_landmarks, mp_hands.HAND_CONNECTIONS)\n",
    "                \n",
    "                # Get coordinates of the thumb tip (landmark 4) and index finger tip (landmark 8)\n",
    "                thumb_tip = hand_landmarks.landmark[4]\n",
    "                index_tip = hand_landmarks.landmark[8]\n",
    "                \n",
    "                # Convert normalized coordinates to pixel values\n",
    "                h, w, _ = frame.shape\n",
    "                thumb_tip_coords = (int(thumb_tip.x * w), int(thumb_tip.y * h))\n",
    "                index_tip_coords = (int(index_tip.x * w), int(index_tip.y * h))\n",
    "                \n",
    "                # Calculate the distance between thumb and index finger tips\n",
    "                distance = calculate_distance(thumb_tip_coords, index_tip_coords)\n",
    "                \n",
    "                # Map the distance to the volume range and set the system volume\n",
    "                vol = volume_control_from_distance(distance, 30, 200)  # Adjust min_distance and max_distance as needed\n",
    "                volume.SetMasterVolumeLevel(vol, None)\n",
    "                \n",
    "                # Display the distance and volume on the frame\n",
    "                cv2.putText(frame, f'Distance: {int(distance)}', (10, 30), cv2.FONT_HERSHEY_SIMPLEX, 1, (255, 0, 0), 2)\n",
    "                cv2.putText(frame, f'Volume: {int((vol - min_vol) / (max_vol - min_vol) * 100)}%', (10, 60), cv2.FONT_HERSHEY_SIMPLEX, 1, (255, 0, 0), 2)\n",
    "        \n",
    "        # Display the frame with the contours drawn\n",
    "        cv2.imshow('Gesture Volume Control', frame)\n",
    "        \n",
    "        # Break the loop on 'q' key press\n",
    "        if cv2.waitKey(1) & 0xFF == ord('q'):\n",
    "            break\n",
    "\n",
    "# Release the webcam and close the window\n",
    "cap.release()\n",
    "cv2.destroyAllWindows()\n"
   ]
  },
  {
   "cell_type": "code",
   "execution_count": null,
   "id": "4cf9209a-6d62-45d0-acc6-9a95bec966f5",
   "metadata": {},
   "outputs": [],
   "source": []
  }
 ],
 "metadata": {
  "kernelspec": {
   "display_name": "Python 3 (ipykernel)",
   "language": "python",
   "name": "python3"
  },
  "language_info": {
   "codemirror_mode": {
    "name": "ipython",
    "version": 3
   },
   "file_extension": ".py",
   "mimetype": "text/x-python",
   "name": "python",
   "nbconvert_exporter": "python",
   "pygments_lexer": "ipython3",
   "version": "3.12.3"
  }
 },
 "nbformat": 4,
 "nbformat_minor": 5
}
